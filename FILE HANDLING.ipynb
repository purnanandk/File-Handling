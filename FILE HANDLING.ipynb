{
 "cells": [
  {
   "cell_type": "markdown",
   "id": "6784700e",
   "metadata": {},
   "source": [
    "# FILE HANDLING "
   ]
  },
  {
   "cell_type": "markdown",
   "id": "1fa2a5ed",
   "metadata": {},
   "source": [
    "### IMPORTING OS library"
   ]
  },
  {
   "cell_type": "code",
   "execution_count": 1,
   "id": "d9c959c8",
   "metadata": {},
   "outputs": [
    {
     "name": "stdout",
     "output_type": "stream",
     "text": [
      "Note: you may need to restart the kernel to use updated packages.\n"
     ]
    },
    {
     "name": "stderr",
     "output_type": "stream",
     "text": [
      "ERROR: Could not find a version that satisfies the requirement os\n",
      "ERROR: No matching distribution found for os\n"
     ]
    }
   ],
   "source": [
    "pip install os"
   ]
  },
  {
   "cell_type": "code",
   "execution_count": 2,
   "id": "fe88c677",
   "metadata": {},
   "outputs": [],
   "source": [
    "import os"
   ]
  },
  {
   "cell_type": "markdown",
   "id": "6fb9658b",
   "metadata": {},
   "source": [
    "### Creating a Folder "
   ]
  },
  {
   "cell_type": "markdown",
   "id": "fff9f437",
   "metadata": {},
   "source": [
    "#### Location of Folder "
   ]
  },
  {
   "cell_type": "code",
   "execution_count": 3,
   "id": "181dcb1e",
   "metadata": {},
   "outputs": [],
   "source": [
    "parent_dir = r\"C:\\Users\\Purnanand\\OneDrive\\Desktop\""
   ]
  },
  {
   "cell_type": "markdown",
   "id": "67c6cef9",
   "metadata": {},
   "source": [
    "#### Folder 1 "
   ]
  },
  {
   "cell_type": "code",
   "execution_count": 4,
   "id": "2546ebc4",
   "metadata": {},
   "outputs": [],
   "source": [
    "folder_name = \"File_teting_1\""
   ]
  },
  {
   "cell_type": "code",
   "execution_count": 5,
   "id": "7513c251",
   "metadata": {},
   "outputs": [],
   "source": [
    "path1 = os.path.join(parent_dir,folder_name)"
   ]
  },
  {
   "cell_type": "code",
   "execution_count": 6,
   "id": "12c7482a",
   "metadata": {},
   "outputs": [],
   "source": [
    "os.mkdir(path1)"
   ]
  },
  {
   "cell_type": "markdown",
   "id": "c6aa3753",
   "metadata": {},
   "source": [
    "#### Folder 2 "
   ]
  },
  {
   "cell_type": "code",
   "execution_count": 7,
   "id": "c165dc73",
   "metadata": {},
   "outputs": [],
   "source": [
    "folder_name2 = \"File_testing_2\""
   ]
  },
  {
   "cell_type": "code",
   "execution_count": 8,
   "id": "1c9bb6ad",
   "metadata": {},
   "outputs": [],
   "source": [
    "path2 = os.path.join(parent_dir,folder_name2)"
   ]
  },
  {
   "cell_type": "code",
   "execution_count": 9,
   "id": "bf0acc84",
   "metadata": {},
   "outputs": [],
   "source": [
    "os.mkdir(path2)"
   ]
  },
  {
   "cell_type": "markdown",
   "id": "7b9a0da9",
   "metadata": {},
   "source": [
    "### Current location  ( current working directly )"
   ]
  },
  {
   "cell_type": "code",
   "execution_count": 10,
   "id": "7e5737a0",
   "metadata": {},
   "outputs": [
    {
     "data": {
      "text/plain": [
       "'C:\\\\Users\\\\Purnanand'"
      ]
     },
     "execution_count": 10,
     "metadata": {},
     "output_type": "execute_result"
    }
   ],
   "source": [
    "pwd()"
   ]
  },
  {
   "cell_type": "code",
   "execution_count": 11,
   "id": "972d596b",
   "metadata": {},
   "outputs": [
    {
     "data": {
      "text/plain": [
       "'C:\\\\Users\\\\Purnanand'"
      ]
     },
     "execution_count": 11,
     "metadata": {},
     "output_type": "execute_result"
    }
   ],
   "source": [
    "os.getcwd()"
   ]
  },
  {
   "cell_type": "markdown",
   "id": "c39ed69e",
   "metadata": {},
   "source": [
    "### Changing location "
   ]
  },
  {
   "cell_type": "code",
   "execution_count": 12,
   "id": "55bc5e7d",
   "metadata": {},
   "outputs": [],
   "source": [
    "os.chdir(path1)"
   ]
  },
  {
   "cell_type": "code",
   "execution_count": 13,
   "id": "a1bbd1c0",
   "metadata": {},
   "outputs": [
    {
     "data": {
      "text/plain": [
       "'C:\\\\Users\\\\Purnanand\\\\OneDrive\\\\Desktop\\\\File_teting_1'"
      ]
     },
     "execution_count": 13,
     "metadata": {},
     "output_type": "execute_result"
    }
   ],
   "source": [
    "pwd()"
   ]
  },
  {
   "cell_type": "markdown",
   "id": "b0659a32",
   "metadata": {},
   "source": [
    "### Opening File "
   ]
  },
  {
   "cell_type": "code",
   "execution_count": 14,
   "id": "69fbf781",
   "metadata": {},
   "outputs": [],
   "source": [
    "file1 = open(\"my_file_1.txt\", 'w+')"
   ]
  },
  {
   "cell_type": "code",
   "execution_count": 15,
   "id": "36a9f7c0",
   "metadata": {},
   "outputs": [
    {
     "data": {
      "text/plain": [
       "24"
      ]
     },
     "execution_count": 15,
     "metadata": {},
     "output_type": "execute_result"
    }
   ],
   "source": [
    "file1.write(\"This is My file number 1\")"
   ]
  },
  {
   "cell_type": "code",
   "execution_count": 16,
   "id": "63b07702",
   "metadata": {},
   "outputs": [],
   "source": [
    "file1.close()"
   ]
  },
  {
   "cell_type": "code",
   "execution_count": 17,
   "id": "a6fc1497",
   "metadata": {},
   "outputs": [],
   "source": [
    "file2 = open(\"my_file_3.txt\", \"w+\")"
   ]
  },
  {
   "cell_type": "markdown",
   "id": "fc93e953",
   "metadata": {},
   "source": [
    "### Writing in a file "
   ]
  },
  {
   "cell_type": "code",
   "execution_count": 18,
   "id": "386e0753",
   "metadata": {},
   "outputs": [
    {
     "data": {
      "text/plain": [
       "55"
      ]
     },
     "execution_count": 18,
     "metadata": {},
     "output_type": "execute_result"
    }
   ],
   "source": [
    "file2.write(\"This is my File number 2, but is mistakenly named as 3.\")"
   ]
  },
  {
   "cell_type": "markdown",
   "id": "5381432d",
   "metadata": {},
   "source": [
    "### Reading a file "
   ]
  },
  {
   "cell_type": "code",
   "execution_count": 19,
   "id": "e2c018eb",
   "metadata": {},
   "outputs": [
    {
     "data": {
      "text/plain": [
       "''"
      ]
     },
     "execution_count": 19,
     "metadata": {},
     "output_type": "execute_result"
    }
   ],
   "source": [
    "file2.read()"
   ]
  },
  {
   "cell_type": "markdown",
   "id": "73da06ce",
   "metadata": {},
   "source": [
    "### Change Cursor position\n",
    "Every time we do reading, it adjusts its cursor."
   ]
  },
  {
   "cell_type": "code",
   "execution_count": 20,
   "id": "e44a5db0",
   "metadata": {},
   "outputs": [
    {
     "data": {
      "text/plain": [
       "0"
      ]
     },
     "execution_count": 20,
     "metadata": {},
     "output_type": "execute_result"
    }
   ],
   "source": [
    "file2.seek(0)"
   ]
  },
  {
   "cell_type": "code",
   "execution_count": 21,
   "id": "105ad1ed",
   "metadata": {},
   "outputs": [
    {
     "data": {
      "text/plain": [
       "'This is my File number 2, but is mistakenly named as 3.'"
      ]
     },
     "execution_count": 21,
     "metadata": {},
     "output_type": "execute_result"
    }
   ],
   "source": [
    "file2.read()"
   ]
  },
  {
   "cell_type": "code",
   "execution_count": 22,
   "id": "a9939cc5",
   "metadata": {},
   "outputs": [
    {
     "data": {
      "text/plain": [
       "20"
      ]
     },
     "execution_count": 22,
     "metadata": {},
     "output_type": "execute_result"
    }
   ],
   "source": [
    "file2.write(\"Now let's rename it.\")"
   ]
  },
  {
   "cell_type": "markdown",
   "id": "9c1cc212",
   "metadata": {},
   "source": [
    "### Closing a file "
   ]
  },
  {
   "cell_type": "code",
   "execution_count": 23,
   "id": "ddebf263",
   "metadata": {},
   "outputs": [],
   "source": [
    "file2.close()"
   ]
  },
  {
   "cell_type": "markdown",
   "id": "4312848a",
   "metadata": {},
   "source": [
    "### RENAMING File "
   ]
  },
  {
   "cell_type": "code",
   "execution_count": 24,
   "id": "f2dd6a0a",
   "metadata": {},
   "outputs": [
    {
     "name": "stdout",
     "output_type": "stream",
     "text": [
      "0\n",
      "1\n"
     ]
    }
   ],
   "source": [
    "for i,j  in enumerate(os.listdir()):\n",
    "    print(i)"
   ]
  },
  {
   "cell_type": "code",
   "execution_count": 25,
   "id": "535c34a7",
   "metadata": {},
   "outputs": [
    {
     "data": {
      "text/plain": [
       "('my_file_3', '.txt')"
      ]
     },
     "execution_count": 25,
     "metadata": {},
     "output_type": "execute_result"
    }
   ],
   "source": [
    "os.path.splitext(\"my_file_3.txt\")     #splits the file name into its BASE name and FILE TYPE"
   ]
  },
  {
   "cell_type": "code",
   "execution_count": 26,
   "id": "6a8d27f5",
   "metadata": {},
   "outputs": [],
   "source": [
    "for count, name in enumerate(os.listdir()) : \n",
    "    f_name, f_type = os.path.splitext(name)\n",
    "    f_name = \"FILE\" + str(count)\n",
    "    \n",
    "    new_name = f\"{f_name}{f_type}\"\n",
    "    os.rename(name, new_name)"
   ]
  },
  {
   "cell_type": "code",
   "execution_count": 27,
   "id": "43d19c70",
   "metadata": {},
   "outputs": [
    {
     "data": {
      "text/plain": [
       "['FILE0.txt', 'FILE1.txt']"
      ]
     },
     "execution_count": 27,
     "metadata": {},
     "output_type": "execute_result"
    }
   ],
   "source": [
    "os.listdir()             #gives all the files present in the directory (folder) that we are currently located in"
   ]
  },
  {
   "cell_type": "code",
   "execution_count": 28,
   "id": "a3f6f1a4",
   "metadata": {},
   "outputs": [],
   "source": [
    "os.rename('FILE1.txt', 'Renamed FILE1')      #RENAME"
   ]
  },
  {
   "cell_type": "code",
   "execution_count": 29,
   "id": "1b22ee44",
   "metadata": {},
   "outputs": [
    {
     "data": {
      "text/plain": [
       "['FILE0.txt', 'Renamed FILE1']"
      ]
     },
     "execution_count": 29,
     "metadata": {},
     "output_type": "execute_result"
    }
   ],
   "source": [
    "os.listdir()"
   ]
  },
  {
   "cell_type": "markdown",
   "id": "06437df7",
   "metadata": {},
   "source": [
    "### MOVING Files "
   ]
  },
  {
   "cell_type": "code",
   "execution_count": 30,
   "id": "2282bc12",
   "metadata": {},
   "outputs": [],
   "source": [
    "import shutil"
   ]
  },
  {
   "cell_type": "markdown",
   "id": "e8f4c62d",
   "metadata": {},
   "source": [
    "shutil.move(\"source location\", \"destination location\")"
   ]
  },
  {
   "cell_type": "code",
   "execution_count": 31,
   "id": "ee57db50",
   "metadata": {},
   "outputs": [],
   "source": [
    "allfiles = os.listdir()"
   ]
  },
  {
   "cell_type": "code",
   "execution_count": 32,
   "id": "987c72b5",
   "metadata": {},
   "outputs": [
    {
     "data": {
      "text/plain": [
       "['FILE0.txt', 'Renamed FILE1']"
      ]
     },
     "execution_count": 32,
     "metadata": {},
     "output_type": "execute_result"
    }
   ],
   "source": [
    "allfiles"
   ]
  },
  {
   "cell_type": "code",
   "execution_count": 33,
   "id": "73b3a087",
   "metadata": {},
   "outputs": [
    {
     "data": {
      "text/plain": [
       "'C:\\\\Users\\\\Purnanand\\\\OneDrive\\\\Desktop\\\\File_teting_1'"
      ]
     },
     "execution_count": 33,
     "metadata": {},
     "output_type": "execute_result"
    }
   ],
   "source": [
    "path1"
   ]
  },
  {
   "cell_type": "code",
   "execution_count": 34,
   "id": "7e2bf013",
   "metadata": {},
   "outputs": [
    {
     "data": {
      "text/plain": [
       "'C:\\\\Users\\\\Purnanand\\\\OneDrive\\\\Desktop\\\\File_testing_2'"
      ]
     },
     "execution_count": 34,
     "metadata": {},
     "output_type": "execute_result"
    }
   ],
   "source": [
    "path2"
   ]
  },
  {
   "cell_type": "code",
   "execution_count": 35,
   "id": "f56ddb74",
   "metadata": {},
   "outputs": [],
   "source": [
    "for f in allfiles :\n",
    "    src_path = os.path.join(path1, f)\n",
    "    dst_path = os.path.join(path2, f)\n",
    "    shutil.move(src_path, dst_path)"
   ]
  },
  {
   "cell_type": "code",
   "execution_count": 36,
   "id": "6a5e5b03",
   "metadata": {},
   "outputs": [
    {
     "data": {
      "text/plain": [
       "[]"
      ]
     },
     "execution_count": 36,
     "metadata": {},
     "output_type": "execute_result"
    }
   ],
   "source": [
    "os.listdir()"
   ]
  },
  {
   "cell_type": "code",
   "execution_count": 37,
   "id": "a7b682bc",
   "metadata": {},
   "outputs": [],
   "source": [
    "os.chdir(path2)"
   ]
  },
  {
   "cell_type": "code",
   "execution_count": 38,
   "id": "d999e60e",
   "metadata": {},
   "outputs": [
    {
     "data": {
      "text/plain": [
       "['FILE0.txt', 'Renamed FILE1']"
      ]
     },
     "execution_count": 38,
     "metadata": {},
     "output_type": "execute_result"
    }
   ],
   "source": [
    "os.listdir()"
   ]
  },
  {
   "cell_type": "code",
   "execution_count": 39,
   "id": "d232059c",
   "metadata": {},
   "outputs": [],
   "source": [
    "os.chdir(path1)"
   ]
  },
  {
   "cell_type": "markdown",
   "id": "eee7fb39",
   "metadata": {},
   "source": [
    "### Creating 10 Files through LOOP "
   ]
  },
  {
   "cell_type": "code",
   "execution_count": 40,
   "id": "0586dfd4",
   "metadata": {},
   "outputs": [],
   "source": [
    "file_base = \"File\""
   ]
  },
  {
   "cell_type": "code",
   "execution_count": 41,
   "id": "8c7ae20d",
   "metadata": {},
   "outputs": [],
   "source": [
    "for i in range(1,11) : \n",
    "    file_name = file_base + str(i) + \".txt\"\n",
    "    File = open(file_name, 'w+')\n",
    "    File.write(f\"This is File Number {i} created by a loop\")\n",
    "    File.close()"
   ]
  },
  {
   "cell_type": "markdown",
   "id": "c074774d",
   "metadata": {},
   "source": [
    "### Moving the files using condition through LOOP "
   ]
  },
  {
   "cell_type": "code",
   "execution_count": 42,
   "id": "c1431012",
   "metadata": {},
   "outputs": [
    {
     "data": {
      "text/plain": [
       "['File1.txt',\n",
       " 'File10.txt',\n",
       " 'File2.txt',\n",
       " 'File3.txt',\n",
       " 'File4.txt',\n",
       " 'File5.txt',\n",
       " 'File6.txt',\n",
       " 'File7.txt',\n",
       " 'File8.txt',\n",
       " 'File9.txt']"
      ]
     },
     "execution_count": 42,
     "metadata": {},
     "output_type": "execute_result"
    }
   ],
   "source": [
    "os.listdir()"
   ]
  },
  {
   "cell_type": "code",
   "execution_count": 121,
   "id": "d15cf594",
   "metadata": {},
   "outputs": [
    {
     "name": "stdout",
     "output_type": "stream",
     "text": [
      "Filehandling1.txt cannot be moved\n",
      "filehandling2.txt cannot be moved\n",
      "filehandling3.puku cannot be moved\n"
     ]
    }
   ],
   "source": [
    "for f in os.listdir() : \n",
    "    f_name, f_type = os.path.splitext(f)\n",
    "    f_number = f_name[4:]\n",
    "    src_path = os.path.join(path1, f)\n",
    "    dst_path = os.path.join(path2, f)\n",
    "    \n",
    "    try :\n",
    "        if int(f_number) <= 5 :\n",
    "            try : \n",
    "                shutil.move(src_path, dst_path)\n",
    "            except :\n",
    "                continue\n",
    "    except :\n",
    "        print(f\"{f} cannot be moved\")"
   ]
  },
  {
   "cell_type": "code",
   "execution_count": 44,
   "id": "47416449",
   "metadata": {},
   "outputs": [
    {
     "data": {
      "text/plain": [
       "'C:\\\\Users\\\\Purnanand\\\\OneDrive\\\\Desktop\\\\File_teting_1'"
      ]
     },
     "execution_count": 44,
     "metadata": {},
     "output_type": "execute_result"
    }
   ],
   "source": [
    "pwd()"
   ]
  },
  {
   "cell_type": "code",
   "execution_count": 45,
   "id": "4a280551",
   "metadata": {},
   "outputs": [
    {
     "name": "stdout",
     "output_type": "stream",
     "text": [
      " Volume in drive C has no label.\n",
      " Volume Serial Number is C89E-1575\n",
      "\n",
      " Directory of C:\\Users\\Purnanand\\OneDrive\\Desktop\\File_teting_1\n",
      "\n",
      "12-02-2023  12:11    <DIR>          .\n",
      "12-02-2023  12:11    <DIR>          ..\n",
      "12-02-2023  12:11                40 File10.txt\n",
      "12-02-2023  12:11                39 File6.txt\n",
      "12-02-2023  12:11                39 File7.txt\n",
      "12-02-2023  12:11                39 File8.txt\n",
      "12-02-2023  12:11                39 File9.txt\n",
      "               5 File(s)            196 bytes\n",
      "               2 Dir(s)  15,913,144,320 bytes free\n"
     ]
    }
   ],
   "source": [
    "ls"
   ]
  },
  {
   "cell_type": "code",
   "execution_count": 46,
   "id": "c0510f44",
   "metadata": {},
   "outputs": [],
   "source": [
    "f1=open('Filehandling1.txt',\"w\")"
   ]
  },
  {
   "cell_type": "code",
   "execution_count": 47,
   "id": "6a22dded",
   "metadata": {},
   "outputs": [
    {
     "data": {
      "text/plain": [
       "36"
      ]
     },
     "execution_count": 47,
     "metadata": {},
     "output_type": "execute_result"
    }
   ],
   "source": [
    "f1.write(\"this is my very first file operation\")"
   ]
  },
  {
   "cell_type": "code",
   "execution_count": 48,
   "id": "631cc995",
   "metadata": {},
   "outputs": [],
   "source": [
    "f1.close()"
   ]
  },
  {
   "cell_type": "code",
   "execution_count": 49,
   "id": "8dff8497",
   "metadata": {},
   "outputs": [
    {
     "name": "stdout",
     "output_type": "stream",
     "text": [
      " Volume in drive C has no label.\n",
      " Volume Serial Number is C89E-1575\n",
      "\n",
      " Directory of C:\\Users\\Purnanand\\OneDrive\\Desktop\\File_teting_1\n",
      "\n",
      "12-02-2023  12:11    <DIR>          .\n",
      "12-02-2023  12:11    <DIR>          ..\n",
      "12-02-2023  12:11                40 File10.txt\n",
      "12-02-2023  12:11                39 File6.txt\n",
      "12-02-2023  12:11                39 File7.txt\n",
      "12-02-2023  12:11                39 File8.txt\n",
      "12-02-2023  12:11                39 File9.txt\n",
      "12-02-2023  12:11                36 Filehandling1.txt\n",
      "               6 File(s)            232 bytes\n",
      "               2 Dir(s)  15,913,144,320 bytes free\n"
     ]
    }
   ],
   "source": [
    "ls"
   ]
  },
  {
   "cell_type": "markdown",
   "id": "d496158e",
   "metadata": {},
   "source": [
    "### Reading, Writing Files"
   ]
  },
  {
   "cell_type": "code",
   "execution_count": 50,
   "id": "929ad9cb",
   "metadata": {},
   "outputs": [],
   "source": [
    "l=[1,2,3,4,5,6]"
   ]
  },
  {
   "cell_type": "code",
   "execution_count": 51,
   "id": "e90bcabe",
   "metadata": {},
   "outputs": [],
   "source": [
    "f2=open(\"filehandling2.txt\",'w')"
   ]
  },
  {
   "cell_type": "code",
   "execution_count": 52,
   "id": "9101442f",
   "metadata": {},
   "outputs": [
    {
     "data": {
      "text/plain": [
       "18"
      ]
     },
     "execution_count": 52,
     "metadata": {},
     "output_type": "execute_result"
    }
   ],
   "source": [
    "f2.write(str(l))"
   ]
  },
  {
   "cell_type": "code",
   "execution_count": 53,
   "id": "c3215311",
   "metadata": {},
   "outputs": [],
   "source": [
    "f2.close()"
   ]
  },
  {
   "cell_type": "code",
   "execution_count": 54,
   "id": "6b3bf3b4",
   "metadata": {},
   "outputs": [],
   "source": [
    "f3=open(\"filehandling3.puku\",\"w\")"
   ]
  },
  {
   "cell_type": "code",
   "execution_count": 55,
   "id": "1d0a54e3",
   "metadata": {},
   "outputs": [
    {
     "data": {
      "text/plain": [
       "31"
      ]
     },
     "execution_count": 55,
     "metadata": {},
     "output_type": "execute_result"
    }
   ],
   "source": [
    "f3.write(\"This is purnanand's file format\")"
   ]
  },
  {
   "cell_type": "code",
   "execution_count": 56,
   "id": "0dc247fd",
   "metadata": {},
   "outputs": [],
   "source": [
    "f3.close()"
   ]
  },
  {
   "cell_type": "code",
   "execution_count": 57,
   "id": "9f78bd32",
   "metadata": {
    "scrolled": true
   },
   "outputs": [
    {
     "name": "stdout",
     "output_type": "stream",
     "text": [
      "Overwriting filehandling2.txt\n"
     ]
    }
   ],
   "source": [
    "%%writefile filehandling2.txt\n",
    "this is python program to write into a file in different way\n",
    "pijfoiajdpoadf]afvsadb \n",
    "adfsdgvbfbfa\n",
    "sdfgvsgvsdfgbvfbhdfng\n",
    "jsajndflofl"
   ]
  },
  {
   "cell_type": "code",
   "execution_count": 58,
   "id": "6aec1455",
   "metadata": {},
   "outputs": [],
   "source": [
    "f2 = open(\"filehandling2.txt\")"
   ]
  },
  {
   "cell_type": "code",
   "execution_count": 59,
   "id": "524098a9",
   "metadata": {},
   "outputs": [
    {
     "data": {
      "text/plain": [
       "'this is python program to write into a file in different way\\npijfoiajdpoadf]afvsadb \\nadfsdgvbfbfa\\nsdfgvsgvsdfgbvfbhdfng\\njsajndflofl\\n'"
      ]
     },
     "execution_count": 59,
     "metadata": {},
     "output_type": "execute_result"
    }
   ],
   "source": [
    "f2.read()"
   ]
  },
  {
   "cell_type": "code",
   "execution_count": 60,
   "id": "a8f66d1e",
   "metadata": {},
   "outputs": [
    {
     "data": {
      "text/plain": [
       "''"
      ]
     },
     "execution_count": 60,
     "metadata": {},
     "output_type": "execute_result"
    }
   ],
   "source": [
    "f2.read()"
   ]
  },
  {
   "cell_type": "code",
   "execution_count": 61,
   "id": "119637d7",
   "metadata": {},
   "outputs": [
    {
     "data": {
      "text/plain": [
       "0"
      ]
     },
     "execution_count": 61,
     "metadata": {},
     "output_type": "execute_result"
    }
   ],
   "source": [
    "f2.seek(0)"
   ]
  },
  {
   "cell_type": "code",
   "execution_count": 62,
   "id": "a6c1e6e3",
   "metadata": {},
   "outputs": [
    {
     "data": {
      "text/plain": [
       "'this is python program to write into a file in different way\\npijfoiajdpoadf]afvsadb \\nadfsdgvbfbfa\\nsdfgvsgvsdfgbvfbhdfng\\njsajndflofl\\n'"
      ]
     },
     "execution_count": 62,
     "metadata": {},
     "output_type": "execute_result"
    }
   ],
   "source": [
    "f2.read()"
   ]
  },
  {
   "cell_type": "code",
   "execution_count": 63,
   "id": "5d8faebc",
   "metadata": {},
   "outputs": [
    {
     "data": {
      "text/plain": [
       "50"
      ]
     },
     "execution_count": 63,
     "metadata": {},
     "output_type": "execute_result"
    }
   ],
   "source": [
    "f2.seek(50)"
   ]
  },
  {
   "cell_type": "code",
   "execution_count": 64,
   "id": "c89fc21a",
   "metadata": {},
   "outputs": [
    {
     "data": {
      "text/plain": [
       "'ferent way\\npijfoiajdpoadf]afvsadb \\nadfsdgvbfbfa\\nsdfgvsgvsdfgbvfbhdfng\\njsajndflofl\\n'"
      ]
     },
     "execution_count": 64,
     "metadata": {},
     "output_type": "execute_result"
    }
   ],
   "source": [
    "f2.read()"
   ]
  },
  {
   "cell_type": "code",
   "execution_count": 65,
   "id": "c1c48f52",
   "metadata": {},
   "outputs": [
    {
     "data": {
      "text/plain": [
       "137"
      ]
     },
     "execution_count": 65,
     "metadata": {},
     "output_type": "execute_result"
    }
   ],
   "source": [
    "f2.tell()"
   ]
  },
  {
   "cell_type": "code",
   "execution_count": 66,
   "id": "eb17eebc",
   "metadata": {},
   "outputs": [
    {
     "data": {
      "text/plain": [
       "0"
      ]
     },
     "execution_count": 66,
     "metadata": {},
     "output_type": "execute_result"
    }
   ],
   "source": [
    "f2.seek(0)"
   ]
  },
  {
   "cell_type": "code",
   "execution_count": 67,
   "id": "377bed04",
   "metadata": {},
   "outputs": [
    {
     "data": {
      "text/plain": [
       "0"
      ]
     },
     "execution_count": 67,
     "metadata": {},
     "output_type": "execute_result"
    }
   ],
   "source": [
    "f2.tell()"
   ]
  },
  {
   "cell_type": "code",
   "execution_count": 68,
   "id": "c5545dfa",
   "metadata": {},
   "outputs": [
    {
     "data": {
      "text/plain": [
       "50"
      ]
     },
     "execution_count": 68,
     "metadata": {},
     "output_type": "execute_result"
    }
   ],
   "source": [
    "f2.seek(50)"
   ]
  },
  {
   "cell_type": "code",
   "execution_count": 69,
   "id": "ff772d2a",
   "metadata": {},
   "outputs": [
    {
     "data": {
      "text/plain": [
       "50"
      ]
     },
     "execution_count": 69,
     "metadata": {},
     "output_type": "execute_result"
    }
   ],
   "source": [
    "f2.tell()"
   ]
  },
  {
   "cell_type": "code",
   "execution_count": 70,
   "id": "c73805ad",
   "metadata": {},
   "outputs": [
    {
     "data": {
      "text/plain": [
       "'ferent way\\npijfoiajdpoadf]afvsadb \\nadfsdgvbfbfa\\nsdfgvsgvsdfgbvfbhdfng\\njsajndflofl\\n'"
      ]
     },
     "execution_count": 70,
     "metadata": {},
     "output_type": "execute_result"
    }
   ],
   "source": [
    "f2.read()"
   ]
  },
  {
   "cell_type": "code",
   "execution_count": 71,
   "id": "9f72ff17",
   "metadata": {},
   "outputs": [
    {
     "data": {
      "text/plain": [
       "''"
      ]
     },
     "execution_count": 71,
     "metadata": {},
     "output_type": "execute_result"
    }
   ],
   "source": [
    "f2.read()"
   ]
  },
  {
   "cell_type": "code",
   "execution_count": 72,
   "id": "0188f6e4",
   "metadata": {},
   "outputs": [
    {
     "data": {
      "text/plain": [
       "0"
      ]
     },
     "execution_count": 72,
     "metadata": {},
     "output_type": "execute_result"
    }
   ],
   "source": [
    "f2.seek(0)"
   ]
  },
  {
   "cell_type": "code",
   "execution_count": 73,
   "id": "051819f5",
   "metadata": {},
   "outputs": [
    {
     "data": {
      "text/plain": [
       "'this is python program to write into a file in dif'"
      ]
     },
     "execution_count": 73,
     "metadata": {},
     "output_type": "execute_result"
    }
   ],
   "source": [
    "f2.read(50)"
   ]
  },
  {
   "cell_type": "code",
   "execution_count": 74,
   "id": "7658c9ac",
   "metadata": {},
   "outputs": [
    {
     "data": {
      "text/plain": [
       "'feren'"
      ]
     },
     "execution_count": 74,
     "metadata": {},
     "output_type": "execute_result"
    }
   ],
   "source": [
    "f2.read(5)"
   ]
  },
  {
   "cell_type": "code",
   "execution_count": 75,
   "id": "a87e4cc7",
   "metadata": {},
   "outputs": [
    {
     "data": {
      "text/plain": [
       "'t'"
      ]
     },
     "execution_count": 75,
     "metadata": {},
     "output_type": "execute_result"
    }
   ],
   "source": [
    "f2.read(1)"
   ]
  },
  {
   "cell_type": "code",
   "execution_count": 76,
   "id": "28c91d21",
   "metadata": {},
   "outputs": [
    {
     "data": {
      "text/plain": [
       "[' way\\n',\n",
       " 'pijfoiajdpoadf]afvsadb \\n',\n",
       " 'adfsdgvbfbfa\\n',\n",
       " 'sdfgvsgvsdfgbvfbhdfng\\n',\n",
       " 'jsajndflofl\\n']"
      ]
     },
     "execution_count": 76,
     "metadata": {},
     "output_type": "execute_result"
    }
   ],
   "source": [
    "f2.readlines()"
   ]
  },
  {
   "cell_type": "code",
   "execution_count": 77,
   "id": "9cf130e0",
   "metadata": {},
   "outputs": [
    {
     "data": {
      "text/plain": [
       "0"
      ]
     },
     "execution_count": 77,
     "metadata": {},
     "output_type": "execute_result"
    }
   ],
   "source": [
    "f2.seek(0)"
   ]
  },
  {
   "cell_type": "code",
   "execution_count": 78,
   "id": "16719d15",
   "metadata": {},
   "outputs": [
    {
     "data": {
      "text/plain": [
       "['this is python program to write into a file in different way\\n',\n",
       " 'pijfoiajdpoadf]afvsadb \\n',\n",
       " 'adfsdgvbfbfa\\n',\n",
       " 'sdfgvsgvsdfgbvfbhdfng\\n',\n",
       " 'jsajndflofl\\n']"
      ]
     },
     "execution_count": 78,
     "metadata": {},
     "output_type": "execute_result"
    }
   ],
   "source": [
    "f2.readlines()"
   ]
  },
  {
   "cell_type": "code",
   "execution_count": 79,
   "id": "d516e1bb",
   "metadata": {},
   "outputs": [
    {
     "data": {
      "text/plain": [
       "0"
      ]
     },
     "execution_count": 79,
     "metadata": {},
     "output_type": "execute_result"
    }
   ],
   "source": [
    "f2.seek(0)"
   ]
  },
  {
   "cell_type": "code",
   "execution_count": 80,
   "id": "1d7ade07",
   "metadata": {},
   "outputs": [
    {
     "data": {
      "text/plain": [
       "'this is python program to write into a file in different way\\n'"
      ]
     },
     "execution_count": 80,
     "metadata": {},
     "output_type": "execute_result"
    }
   ],
   "source": [
    "f2.readline()"
   ]
  },
  {
   "cell_type": "code",
   "execution_count": 81,
   "id": "e2e701bd",
   "metadata": {},
   "outputs": [
    {
     "data": {
      "text/plain": [
       "'pijfoiajdpoadf]afvsa'"
      ]
     },
     "execution_count": 81,
     "metadata": {},
     "output_type": "execute_result"
    }
   ],
   "source": [
    "f2.read(20)"
   ]
  },
  {
   "cell_type": "code",
   "execution_count": 82,
   "id": "45d8b7f8",
   "metadata": {},
   "outputs": [
    {
     "data": {
      "text/plain": [
       "'db \\n'"
      ]
     },
     "execution_count": 82,
     "metadata": {},
     "output_type": "execute_result"
    }
   ],
   "source": [
    "f2.readline()"
   ]
  },
  {
   "cell_type": "code",
   "execution_count": 83,
   "id": "ee562421",
   "metadata": {},
   "outputs": [
    {
     "data": {
      "text/plain": [
       "0"
      ]
     },
     "execution_count": 83,
     "metadata": {},
     "output_type": "execute_result"
    }
   ],
   "source": [
    "f2.seek(0)"
   ]
  },
  {
   "cell_type": "code",
   "execution_count": 84,
   "id": "ecb4c528",
   "metadata": {},
   "outputs": [
    {
     "data": {
      "text/plain": [
       "['this is python program to write into a file in different way\\n',\n",
       " 'pijfoiajdpoadf]afvsadb \\n',\n",
       " 'adfsdgvbfbfa\\n',\n",
       " 'sdfgvsgvsdfgbvfbhdfng\\n',\n",
       " 'jsajndflofl\\n']"
      ]
     },
     "execution_count": 84,
     "metadata": {},
     "output_type": "execute_result"
    }
   ],
   "source": [
    "f2.readlines()"
   ]
  },
  {
   "cell_type": "code",
   "execution_count": 85,
   "id": "01161e0c",
   "metadata": {},
   "outputs": [
    {
     "data": {
      "text/plain": [
       "'C:\\\\Users\\\\Purnanand\\\\OneDrive\\\\Desktop\\\\File_teting_1'"
      ]
     },
     "execution_count": 85,
     "metadata": {},
     "output_type": "execute_result"
    }
   ],
   "source": [
    "pwd()"
   ]
  },
  {
   "cell_type": "code",
   "execution_count": 86,
   "id": "cec83c05",
   "metadata": {},
   "outputs": [],
   "source": [
    "f2.close()"
   ]
  },
  {
   "cell_type": "code",
   "execution_count": 87,
   "id": "24771d72",
   "metadata": {},
   "outputs": [],
   "source": [
    "f2 = open(\"filehandling2.txt\",'a')"
   ]
  },
  {
   "cell_type": "code",
   "execution_count": 88,
   "id": "b52ef176",
   "metadata": {},
   "outputs": [
    {
     "data": {
      "text/plain": [
       "80"
      ]
     },
     "execution_count": 88,
     "metadata": {},
     "output_type": "execute_result"
    }
   ],
   "source": [
    "f2.write(\"this information is appended after the previous data in f2 \\ndafsvgfdvdvvdvsfvsfc\")"
   ]
  },
  {
   "cell_type": "code",
   "execution_count": 89,
   "id": "f9fcbd1c",
   "metadata": {},
   "outputs": [],
   "source": [
    "f2.close()"
   ]
  },
  {
   "cell_type": "markdown",
   "id": "58df460a",
   "metadata": {},
   "source": [
    "------"
   ]
  },
  {
   "cell_type": "markdown",
   "id": "0ec93c31",
   "metadata": {},
   "source": [
    "### Defining Functions"
   ]
  },
  {
   "cell_type": "code",
   "execution_count": 90,
   "id": "ed8ee443",
   "metadata": {},
   "outputs": [],
   "source": [
    "def func(n):\n",
    "    x = [i*i for i in range(n)]\n",
    "    return(x)"
   ]
  },
  {
   "cell_type": "code",
   "execution_count": 91,
   "id": "f9e15c90",
   "metadata": {},
   "outputs": [
    {
     "data": {
      "text/plain": [
       "[0, 1, 4, 9, 16]"
      ]
     },
     "execution_count": 91,
     "metadata": {},
     "output_type": "execute_result"
    }
   ],
   "source": [
    "func(5)"
   ]
  },
  {
   "cell_type": "code",
   "execution_count": 92,
   "id": "e431ff0a",
   "metadata": {},
   "outputs": [],
   "source": [
    "def func1(n):\n",
    "    x = [i*i for i in range(n)]\n",
    "    yield(x)"
   ]
  },
  {
   "cell_type": "code",
   "execution_count": 93,
   "id": "2d177114",
   "metadata": {},
   "outputs": [
    {
     "data": {
      "text/plain": [
       "<generator object func1 at 0x0000015D6F7D5A50>"
      ]
     },
     "execution_count": 93,
     "metadata": {},
     "output_type": "execute_result"
    }
   ],
   "source": [
    "func1(6)"
   ]
  },
  {
   "cell_type": "code",
   "execution_count": 94,
   "id": "bed91230",
   "metadata": {},
   "outputs": [
    {
     "name": "stdout",
     "output_type": "stream",
     "text": [
      "[0, 1, 4, 9, 16, 25, 36, 49]\n"
     ]
    }
   ],
   "source": [
    "for i in func1(8):\n",
    "    print(i)"
   ]
  },
  {
   "cell_type": "markdown",
   "id": "d73bf1b1",
   "metadata": {},
   "source": [
    "Generator Function"
   ]
  },
  {
   "cell_type": "code",
   "execution_count": 95,
   "id": "f68ea923",
   "metadata": {},
   "outputs": [],
   "source": [
    "def genfib(n):\n",
    "    a=1\n",
    "    b=1\n",
    "    l=[]\n",
    "    for i in range(n):\n",
    "        l.append(a)\n",
    "        a,b =b,a+b\n",
    "    return l"
   ]
  },
  {
   "cell_type": "code",
   "execution_count": 96,
   "id": "670314c3",
   "metadata": {},
   "outputs": [
    {
     "data": {
      "text/plain": [
       "[1,\n",
       " 1,\n",
       " 2,\n",
       " 3,\n",
       " 5,\n",
       " 8,\n",
       " 13,\n",
       " 21,\n",
       " 34,\n",
       " 55,\n",
       " 89,\n",
       " 144,\n",
       " 233,\n",
       " 377,\n",
       " 610,\n",
       " 987,\n",
       " 1597,\n",
       " 2584,\n",
       " 4181,\n",
       " 6765,\n",
       " 10946,\n",
       " 17711,\n",
       " 28657,\n",
       " 46368,\n",
       " 75025,\n",
       " 121393,\n",
       " 196418,\n",
       " 317811,\n",
       " 514229,\n",
       " 832040,\n",
       " 1346269,\n",
       " 2178309,\n",
       " 3524578,\n",
       " 5702887,\n",
       " 9227465,\n",
       " 14930352,\n",
       " 24157817,\n",
       " 39088169,\n",
       " 63245986,\n",
       " 102334155,\n",
       " 165580141,\n",
       " 267914296,\n",
       " 433494437,\n",
       " 701408733,\n",
       " 1134903170,\n",
       " 1836311903,\n",
       " 2971215073,\n",
       " 4807526976,\n",
       " 7778742049,\n",
       " 12586269025,\n",
       " 20365011074,\n",
       " 32951280099,\n",
       " 53316291173,\n",
       " 86267571272,\n",
       " 139583862445,\n",
       " 225851433717,\n",
       " 365435296162,\n",
       " 591286729879,\n",
       " 956722026041,\n",
       " 1548008755920,\n",
       " 2504730781961,\n",
       " 4052739537881,\n",
       " 6557470319842,\n",
       " 10610209857723,\n",
       " 17167680177565,\n",
       " 27777890035288,\n",
       " 44945570212853,\n",
       " 72723460248141,\n",
       " 117669030460994,\n",
       " 190392490709135,\n",
       " 308061521170129,\n",
       " 498454011879264,\n",
       " 806515533049393,\n",
       " 1304969544928657,\n",
       " 2111485077978050,\n",
       " 3416454622906707,\n",
       " 5527939700884757,\n",
       " 8944394323791464,\n",
       " 14472334024676221,\n",
       " 23416728348467685,\n",
       " 37889062373143906,\n",
       " 61305790721611591,\n",
       " 99194853094755497,\n",
       " 160500643816367088,\n",
       " 259695496911122585,\n",
       " 420196140727489673,\n",
       " 679891637638612258,\n",
       " 1100087778366101931,\n",
       " 1779979416004714189,\n",
       " 2880067194370816120,\n",
       " 4660046610375530309,\n",
       " 7540113804746346429,\n",
       " 12200160415121876738,\n",
       " 19740274219868223167,\n",
       " 31940434634990099905,\n",
       " 51680708854858323072,\n",
       " 83621143489848422977,\n",
       " 135301852344706746049,\n",
       " 218922995834555169026,\n",
       " 354224848179261915075]"
      ]
     },
     "execution_count": 96,
     "metadata": {},
     "output_type": "execute_result"
    }
   ],
   "source": [
    "genfib(100)"
   ]
  },
  {
   "cell_type": "code",
   "execution_count": 101,
   "id": "b4fdaed3",
   "metadata": {},
   "outputs": [],
   "source": [
    "# MAP"
   ]
  },
  {
   "cell_type": "code",
   "execution_count": 102,
   "id": "ef19d163",
   "metadata": {},
   "outputs": [],
   "source": [
    "def sq(n):\n",
    "    return n**2"
   ]
  },
  {
   "cell_type": "code",
   "execution_count": 103,
   "id": "5956425c",
   "metadata": {},
   "outputs": [
    {
     "data": {
      "text/plain": [
       "[1, 2, 3, 4, 5, 6]"
      ]
     },
     "execution_count": 103,
     "metadata": {},
     "output_type": "execute_result"
    }
   ],
   "source": [
    "l"
   ]
  },
  {
   "cell_type": "code",
   "execution_count": 104,
   "id": "21c83ab4",
   "metadata": {},
   "outputs": [],
   "source": [
    "s1={5,6,7,8,9}"
   ]
  },
  {
   "cell_type": "code",
   "execution_count": 105,
   "id": "86d57a9e",
   "metadata": {},
   "outputs": [],
   "source": [
    "t1=(3,4,5,6,7)"
   ]
  },
  {
   "cell_type": "code",
   "execution_count": 106,
   "id": "aef8e513",
   "metadata": {},
   "outputs": [
    {
     "data": {
      "text/plain": [
       "<map at 0x15d6f813880>"
      ]
     },
     "execution_count": 106,
     "metadata": {},
     "output_type": "execute_result"
    }
   ],
   "source": [
    "map(sq,l)"
   ]
  },
  {
   "cell_type": "code",
   "execution_count": 107,
   "id": "5f16e753",
   "metadata": {},
   "outputs": [
    {
     "data": {
      "text/plain": [
       "[1, 4, 9, 16, 25, 36]"
      ]
     },
     "execution_count": 107,
     "metadata": {},
     "output_type": "execute_result"
    }
   ],
   "source": [
    "list(map(sq,l))"
   ]
  },
  {
   "cell_type": "code",
   "execution_count": 108,
   "id": "6eaa317f",
   "metadata": {},
   "outputs": [
    {
     "data": {
      "text/plain": [
       "[25, 36, 49, 64, 81]"
      ]
     },
     "execution_count": 108,
     "metadata": {},
     "output_type": "execute_result"
    }
   ],
   "source": [
    "list(map(sq,s1))"
   ]
  },
  {
   "cell_type": "code",
   "execution_count": 109,
   "id": "42dd8401",
   "metadata": {},
   "outputs": [
    {
     "data": {
      "text/plain": [
       "[1, 4, 9, 16, 25, 36]"
      ]
     },
     "execution_count": 109,
     "metadata": {},
     "output_type": "execute_result"
    }
   ],
   "source": [
    "list(map( lambda x : x**2, l))"
   ]
  },
  {
   "cell_type": "code",
   "execution_count": 110,
   "id": "70286371",
   "metadata": {},
   "outputs": [
    {
     "data": {
      "text/plain": [
       "[9, 16, 25, 36, 49]"
      ]
     },
     "execution_count": 110,
     "metadata": {},
     "output_type": "execute_result"
    }
   ],
   "source": [
    "list(map(sq,t1))"
   ]
  },
  {
   "cell_type": "code",
   "execution_count": 111,
   "id": "709c5fb6",
   "metadata": {},
   "outputs": [
    {
     "data": {
      "text/plain": [
       "['1', '2', '3', '4', '5', '6']"
      ]
     },
     "execution_count": 111,
     "metadata": {},
     "output_type": "execute_result"
    }
   ],
   "source": [
    "list ( map ( lambda x : str(x),l))"
   ]
  },
  {
   "cell_type": "code",
   "execution_count": 112,
   "id": "99541202",
   "metadata": {},
   "outputs": [
    {
     "data": {
      "text/plain": [
       "['1', '2', '3', '4', '5', '6']"
      ]
     },
     "execution_count": 112,
     "metadata": {},
     "output_type": "execute_result"
    }
   ],
   "source": [
    "list( map(str,l))"
   ]
  },
  {
   "cell_type": "code",
   "execution_count": 114,
   "id": "1efc2df0",
   "metadata": {},
   "outputs": [],
   "source": [
    "from functools import reduce"
   ]
  },
  {
   "cell_type": "code",
   "execution_count": 115,
   "id": "132e594c",
   "metadata": {},
   "outputs": [],
   "source": [
    "l1=[3,4,5,6,7,8,9]"
   ]
  },
  {
   "cell_type": "code",
   "execution_count": 116,
   "id": "46f96ab6",
   "metadata": {},
   "outputs": [
    {
     "data": {
      "text/plain": [
       "42"
      ]
     },
     "execution_count": 116,
     "metadata": {},
     "output_type": "execute_result"
    }
   ],
   "source": [
    "sum(l1)"
   ]
  },
  {
   "cell_type": "code",
   "execution_count": 117,
   "id": "34883c53",
   "metadata": {},
   "outputs": [
    {
     "data": {
      "text/plain": [
       "42"
      ]
     },
     "execution_count": 117,
     "metadata": {},
     "output_type": "execute_result"
    }
   ],
   "source": [
    "reduce(lambda a,b : a+b , l1)"
   ]
  },
  {
   "cell_type": "code",
   "execution_count": 118,
   "id": "499195bc",
   "metadata": {},
   "outputs": [
    {
     "data": {
      "text/plain": [
       "181440"
      ]
     },
     "execution_count": 118,
     "metadata": {},
     "output_type": "execute_result"
    }
   ],
   "source": [
    "reduce(lambda a,b : a*b , l1)"
   ]
  },
  {
   "cell_type": "code",
   "execution_count": 119,
   "id": "12ded3af",
   "metadata": {},
   "outputs": [],
   "source": [
    "#FILTER"
   ]
  },
  {
   "cell_type": "code",
   "execution_count": 120,
   "id": "dd248d3f",
   "metadata": {},
   "outputs": [
    {
     "data": {
      "text/plain": [
       "[2, 4, 6]"
      ]
     },
     "execution_count": 120,
     "metadata": {},
     "output_type": "execute_result"
    }
   ],
   "source": [
    "list(filter(lambda x : x%2==0,l))"
   ]
  },
  {
   "cell_type": "code",
   "execution_count": null,
   "id": "8f3e0b48",
   "metadata": {},
   "outputs": [],
   "source": []
  }
 ],
 "metadata": {
  "kernelspec": {
   "display_name": "Python 3",
   "language": "python",
   "name": "python3"
  },
  "language_info": {
   "codemirror_mode": {
    "name": "ipython",
    "version": 3
   },
   "file_extension": ".py",
   "mimetype": "text/x-python",
   "name": "python",
   "nbconvert_exporter": "python",
   "pygments_lexer": "ipython3",
   "version": "3.8.8"
  }
 },
 "nbformat": 4,
 "nbformat_minor": 5
}
